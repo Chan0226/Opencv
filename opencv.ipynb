{
 "cells": [
  {
   "cell_type": "code",
   "execution_count": 1,
   "id": "486e8bc5",
   "metadata": {},
   "outputs": [],
   "source": [
    "# opencv 와 웹캠을 이용한 영상인식\n",
    "import numpy as np\n",
    "import tensorflow as tf\n",
    "import tkinter as tk\n",
    "from tkinter import filedialog\n",
    "from PIL import Image, ImageTk # pip or conda install pillow\n",
    "from IPython.display import Audio  #winsound  ---> window os \n",
    "import winsound\n",
    "from gtts import gTTS\n",
    "import playsound   # pip install playsound == 1.2.2\n",
    "import os\n",
    "import cv2"
   ]
  },
  {
   "cell_type": "code",
   "execution_count": 2,
   "id": "2e8e060f",
   "metadata": {},
   "outputs": [],
   "source": [
    "cnn = tf.keras.models.load_model('my_cnn_for_deploy.h5')"
   ]
  },
  {
   "cell_type": "code",
   "execution_count": 3,
   "id": "0937eab0",
   "metadata": {},
   "outputs": [],
   "source": [
    "class_names_en=['airplane','automobile','bird','cat','deer','dog','frog','horse','ship','truck'] # CIFAR-10의 부류 이름(영어)\n",
    "class_names_fr=['avion','voiture','oiseau','chatte','biche','chienne','grenouille','jument','navire','un camion'] # CIFAR-10의 부류 이름(프랑스어)\n",
    "class_names_de=['Flugzeug','Automobil','Vogel','Katze','Hirsch','Hund','Frosch','Pferd','Schiff','LKW'] # CIFAR-10의 부류 이름(독일어)\n",
    "class_id = 0\n",
    "tk_img = ''"
   ]
  },
  {
   "cell_type": "code",
   "execution_count": 4,
   "id": "f131044b",
   "metadata": {},
   "outputs": [],
   "source": [
    "  # filedialog를 통해 파일을 선택   \n",
    "  # fname = filedialog.askopenfilename()\n",
    "  # img =  Image.open(fname)"
   ]
  },
  {
   "cell_type": "code",
   "execution_count": 5,
   "id": "c8b0c24a",
   "metadata": {},
   "outputs": [],
   "source": [
    "# 웹캠 테스트\n",
    "# video = cv2.VideoCapture(0)\n",
    "# while video.isOpened():\n",
    "#     success,frame = video.read()\n",
    "#     if success: # 성공하면\n",
    "#         cv2.imshow('Camera',frame)\n",
    "#         key=cv2.waitKey(1) & 0xFF # 영상 주면서 살짝 기다려야 한다.\n",
    "#         if key==27: # ESC 버튼을 누르면 꺼진다.\n",
    "#             break\n",
    "# video.release()\n",
    "# cv2.destroyAllWindows()          "
   ]
  },
  {
   "cell_type": "code",
   "execution_count": 7,
   "id": "8b6e0c57",
   "metadata": {},
   "outputs": [],
   "source": [
    "def process_folderImage():\n",
    "    # filedialog를 통해 파일을 선택   \n",
    "    fname = filedialog.askopenfilename()\n",
    "    img =  Image.open(fname)\n",
    "    process_image(img)\n",
    "\n",
    "def process_camImage():\n",
    "    # 비디오 영상을 캡처해서 아래 프로세스를 태운다\n",
    "    video = cv2.VideoCapture(0)\n",
    "    while video.isOpened():\n",
    "        success,frame = video.read()\n",
    "        if success:\n",
    "            cv2.imshow('Camera',frame)\n",
    "            key=cv2.waitKey(1) & 0xFF\n",
    "            if key==27:\n",
    "                break\n",
    "    video.release()\n",
    "    cv2.destroyAllWindows()    \n",
    "    frame = cv2.cvtColor(frame,cv2.COLOR_BGR2RGB)\n",
    "    img = Image.fromarray(frame)\n",
    "    process_image(img)\n",
    "    \n",
    "# 사용자가 선택한 영상을 인식하고 결과를 저장\n",
    "def process_image(img):    \n",
    "  global class_id, tk_img     # 함수외부에서 선언한 변수를 사용하기 위해 global 예약어를 사용      \n",
    "\n",
    "\n",
    "  tk_img = img.resize([128,128])\n",
    "  tk_img =  ImageTk.PhotoImage(tk_img)\n",
    "  canvas.create_image( (canvas.winfo_width()/2, canvas.winfo_height()/2),\n",
    "                      image = tk_img, anchor='center' )\n",
    "\n",
    "  x_test=[]\n",
    "  x = np.asarray(img.resize([32,32])) / 255.0\n",
    "  x_test.append(x)\n",
    "  x_test = np.asarray(x_test)\n",
    "  res = cnn.predict(x_test)   # 영상 인식\n",
    "  class_id = np.argmax(res)\n",
    "  # 레이블 텍스트\n",
    "  label_en['text'] = '영어 : ' + class_names_en[class_id]\n",
    "  label_fr['text'] = '프랑스어 : ' + class_names_fr[class_id]\n",
    "  label_de['text'] = '독일어 : ' + class_names_de[class_id]    "
   ]
  },
  {
   "cell_type": "code",
   "execution_count": 8,
   "id": "430141d5",
   "metadata": {},
   "outputs": [],
   "source": [
    "# speak en\n",
    "def tts_english():\n",
    "    tts = gTTS(text=class_names_en[class_id],lang='en')\n",
    "    if os.path.isfile(\"word.mp3\") : os.remove('word.mp3')\n",
    "    tts.save('word.mp3')  \n",
    "    playsound.playsound('word.mp3', True)\n",
    "# speak fr\n",
    "def tts_french():\n",
    "    tts = gTTS(text=class_names_fr[class_id],lang='fr')\n",
    "    if os.path.isfile(\"word.mp3\") : os.remove('word.mp3')\n",
    "    tts.save('word.mp3')  \n",
    "    playsound.playsound('word.mp3', True)\n",
    "# speak de\n",
    "def tts_deutsch():\n",
    "    tts = gTTS(text=class_names_de[class_id],lang='de')\n",
    "    if os.path.isfile(\"word.mp3\") : os.remove('word.mp3')\n",
    "    tts.save('word.mp3')  \n",
    "    playsound.playsound('word.mp3', True)\n",
    "def quit_window():  # 프로그램 종료\n",
    "    win.destroy()    "
   ]
  },
  {
   "cell_type": "code",
   "execution_count": 9,
   "id": "d3486d2f",
   "metadata": {},
   "outputs": [],
   "source": [
    "win = tk.Tk()\n",
    "win.title('다국어 단어 공부')\n",
    "win.geometry('512x500')\n",
    "\n",
    "# 함수와 GUI 프로그램의 버튼을 연결  -- 이벤트(액션) 핸들러(함수) 등록\n",
    "process_button_folder = tk.Button(win,text = '폴더이미지',command = process_folderImage)\n",
    "process_button_cam = tk.Button(win,text = '캠이미지',command = process_camImage)\n",
    "quit_button = tk.Button(win,text = '종료',command = quit_window)\n",
    "en_button = tk.Button(win,text = '듣기',command = tts_english)\n",
    "fr_button = tk.Button(win,text = '듣기',command = tts_french)\n",
    "de_button = tk.Button(win,text = '듣기',command = tts_deutsch)\n",
    "\n",
    "canvas=tk.Canvas(win,width=253,height=256,bg='cyan',bd=4)\n",
    "label_en=tk.Label(win,width=16,height=1,bg='yellow',bd=4,text='영어',anchor='w')\n",
    "label_fr=tk.Label(win,width=16,height=1,bg='yellow',bd=4,text='프랑스어',anchor='w')\n",
    "label_de=tk.Label(win,width=16,height=1,bg='yellow',bd=4,text='독일어',anchor='w')\n",
    "\n",
    "# 위젯 배치\n",
    "process_button_folder.grid(row=0,column=0)\n",
    "process_button_cam.grid(row=1,column=0)\n",
    "\n",
    "quit_button.grid(row=2,column=0)\n",
    "canvas.grid(row=0,column=1)\n",
    "label_en.grid(row=1,column=1,sticky='e')\n",
    "label_fr.grid(row=2,column=1,sticky='e')\n",
    "label_de.grid(row=3,column=1,sticky='e')\n",
    "en_button.grid(row=1,column=2,sticky='w')\n",
    "fr_button.grid(row=2,column=2,sticky='w')\n",
    "de_button.grid(row=3,column=2,sticky='w')\n",
    "\n",
    "win.mainloop() # 파이썬 gui 실행"
   ]
  },
  {
   "cell_type": "code",
   "execution_count": null,
   "id": "ecd19bc8",
   "metadata": {},
   "outputs": [],
   "source": []
  }
 ],
 "metadata": {
  "kernelspec": {
   "display_name": "Python 3",
   "language": "python",
   "name": "python3"
  },
  "language_info": {
   "codemirror_mode": {
    "name": "ipython",
    "version": 3
   },
   "file_extension": ".py",
   "mimetype": "text/x-python",
   "name": "python",
   "nbconvert_exporter": "python",
   "pygments_lexer": "ipython3",
   "version": "3.8.8"
  }
 },
 "nbformat": 4,
 "nbformat_minor": 5
}
