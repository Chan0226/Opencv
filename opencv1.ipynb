{
 "cells": [
  {
   "cell_type": "code",
   "execution_count": 1,
   "id": "5242680e",
   "metadata": {},
   "outputs": [],
   "source": [
    "#!pip install opencv-python"
   ]
  },
  {
   "cell_type": "code",
   "execution_count": 2,
   "id": "60b3975a",
   "metadata": {},
   "outputs": [],
   "source": [
    "import cv2"
   ]
  },
  {
   "cell_type": "code",
   "execution_count": 8,
   "id": "9996e512",
   "metadata": {},
   "outputs": [
    {
     "name": "stdout",
     "output_type": "stream",
     "text": [
      "no image\n"
     ]
    }
   ],
   "source": [
    "# 코렙에서 이미지 불러오기\n",
    "imageFile = '/content/01.jpg'\n",
    "img = cv2.imread(imageFile)\n",
    "if img is not None:\n",
    "   cv2_imshow(img)  \n",
    "else:\n",
    "  print('no image')"
   ]
  },
  {
   "cell_type": "code",
   "execution_count": 9,
   "id": "ee68d130",
   "metadata": {},
   "outputs": [
    {
     "ename": "NameError",
     "evalue": "name 'cv2_imshow' is not defined",
     "output_type": "error",
     "traceback": [
      "\u001b[1;31m---------------------------------------------------------------------------\u001b[0m",
      "\u001b[1;31mNameError\u001b[0m                                 Traceback (most recent call last)",
      "\u001b[1;32m~\\AppData\\Local\\Temp/ipykernel_4860/2178127921.py\u001b[0m in \u001b[0;36m<module>\u001b[1;34m\u001b[0m\n\u001b[0;32m      2\u001b[0m \u001b[0mSaveimageFile\u001b[0m \u001b[1;33m=\u001b[0m \u001b[1;34m'/content/01_gray.jpg'\u001b[0m\u001b[1;33m\u001b[0m\u001b[1;33m\u001b[0m\u001b[0m\n\u001b[0;32m      3\u001b[0m \u001b[0mimg\u001b[0m \u001b[1;33m=\u001b[0m  \u001b[0mcv2\u001b[0m\u001b[1;33m.\u001b[0m\u001b[0mimread\u001b[0m\u001b[1;33m(\u001b[0m\u001b[0mimageFile\u001b[0m\u001b[1;33m,\u001b[0m \u001b[0mcv2\u001b[0m\u001b[1;33m.\u001b[0m\u001b[0mIMREAD_GRAYSCALE\u001b[0m\u001b[1;33m)\u001b[0m\u001b[1;33m\u001b[0m\u001b[1;33m\u001b[0m\u001b[0m\n\u001b[1;32m----> 4\u001b[1;33m \u001b[0mcv2_imshow\u001b[0m\u001b[1;33m(\u001b[0m\u001b[0mimg\u001b[0m\u001b[1;33m)\u001b[0m\u001b[1;33m\u001b[0m\u001b[1;33m\u001b[0m\u001b[0m\n\u001b[0m\u001b[0;32m      5\u001b[0m \u001b[0mcv2\u001b[0m\u001b[1;33m.\u001b[0m\u001b[0mimwrite\u001b[0m\u001b[1;33m(\u001b[0m\u001b[0mSaveimageFile\u001b[0m\u001b[1;33m,\u001b[0m \u001b[0mimg\u001b[0m\u001b[1;33m)\u001b[0m \u001b[1;31m# 이미지 저장\u001b[0m\u001b[1;33m\u001b[0m\u001b[1;33m\u001b[0m\u001b[0m\n",
      "\u001b[1;31mNameError\u001b[0m: name 'cv2_imshow' is not defined"
     ]
    }
   ],
   "source": [
    "imageFile = '/content/01.jpg'\n",
    "SaveimageFile = '/content/01_gray.jpg'\n",
    "img =  cv2.imread(imageFile, cv2.IMREAD_GRAYSCALE)\n",
    "cv2_imshow(img)\n",
    "cv2.imwrite(SaveimageFile, img) # 이미지 저장"
   ]
  },
  {
   "cell_type": "code",
   "execution_count": 10,
   "id": "39472630",
   "metadata": {},
   "outputs": [],
   "source": [
    "video_file = 'big_buck.avi'\n",
    "\n",
    "cap = cv2.VideoCapture(video_file)\n",
    "if cap.isOpened():\n",
    "  while True:   # 연속적인 파일의 프레임을 읽어오기 위함\n",
    "    ret,img = cap.read()  # 다음 프레임 읽기\n",
    "    if ret:\n",
    "      cv2.imshow(video_file,img) # 화면에 표시\n",
    "      cv2.waitKey(25)            # 25ms 지연(40fps)\n",
    "    else:\n",
    "      break;\n",
    "else:\n",
    "  print(\"not open video\")\n",
    "cap.release()\n",
    "cv2.destroyAllWindows()"
   ]
  },
  {
   "cell_type": "code",
   "execution_count": 11,
   "id": "49639166",
   "metadata": {},
   "outputs": [],
   "source": [
    "# 웹캠 사용"
   ]
  },
  {
   "cell_type": "code",
   "execution_count": null,
   "id": "215cfcfd",
   "metadata": {},
   "outputs": [],
   "source": [
    "cap = cv2.VideoCapture(0)\n",
    "if cap.isOpened():\n",
    "    while True:   # 연속적인 파일의 프레임을 읽어오기 위함\n",
    "        ret,img = cap.read()  # 다음 프레임 읽기\n",
    "        if ret:\n",
    "          cv2.imshow('camera',img) # 화면에 표시\n",
    "          if cv2.waitKey(1) != -1: # 25ms 지연(40fps)\n",
    "                break;             # 동영상을 시간이 다되면 끝나지만 웹캠은 우리가 끝내야한다.\n",
    "        else:\n",
    "            print('no frame')\n",
    "            break;\n",
    "else:\n",
    "  print(\"not open video\")\n",
    "cap.release()\n",
    "cv2.destroyAllWindows()"
   ]
  },
  {
   "cell_type": "code",
   "execution_count": null,
   "id": "ddfcf340",
   "metadata": {},
   "outputs": [],
   "source": [
    "cv2.CAP_PROP_ "
   ]
  },
  {
   "cell_type": "code",
   "execution_count": null,
   "id": "3baeb37f",
   "metadata": {},
   "outputs": [],
   "source": [
    "video_file = 'big_buck.avi'\n",
    "\n",
    "cap = cv2.VideoCapture(video_file)\n",
    "if cap.isOpened():\n",
    " \n",
    "    fps = cap.get(cv2.CAP_PROP_FPS)  # 다음 프레임 읽기\n",
    "    delay = int(1000/fps)\n",
    "    print(\"FPS: %f, Delay: &dms\"%(fps,delay))\n",
    "    while True:\n",
    "        ret, img = cap.read()\n",
    "        if ret:\n",
    "              cv2.imshow(video_file,img) # 화면에 표시\n",
    "              cv2.waitKey(25)            # 25ms 지연(40fps)\n",
    "        else:\n",
    "          break;\n",
    "else:\n",
    "  print(\"not open video\")\n",
    "cap.release()\n",
    "cv2.destroyAllWindows()\n"
   ]
  },
  {
   "cell_type": "code",
   "execution_count": null,
   "id": "662318c3",
   "metadata": {},
   "outputs": [],
   "source": [
    "# 카메라 프레임 설정\n",
    "import cv2\n",
    "cap = cv2.VideoCapture(0)\n",
    "width = cv2.get(cv2.CAP_PROP_FRAME_WIDTH)\n",
    "height = cv2.get(cv2.CAP_PROP_FRAME_HEIGHT)\n",
    "if cap.isOpened():\n",
    "    while True:\n",
    "        ret, img = cap.read()\n",
    "        if ret:\n",
    "              cv2.imshow('camerea',img) # 화면에 표시\n",
    "              cv2.waitKey(25)            # 25ms 지연(40fps)\n",
    "        else:\n",
    "          break;\n",
    "else:\n",
    "  print(\"not open video\")\n",
    "cap.release()\n",
    "cv2.destroyAllWindows()"
   ]
  },
  {
   "cell_type": "code",
   "execution_count": null,
   "id": "fe132886",
   "metadata": {},
   "outputs": [],
   "source": [
    "import cv2\n",
    "cap = cv2.VideoCapture(0)\n",
    "if cap.isOpened():\n",
    "    while True:   # 연속적인 파일의 프레임을 읽어오기 위함\n",
    "        ret,frame = cap.read()  # 다음 프레임 읽기\n",
    "        if ret:\n",
    "          cv2.imshow('camera',frame) # 화면에 표시\n",
    "          if cv2.waitKey(1) != -1: # 25ms 지연(40fps)\n",
    "                cv2.imwrite('photo.jpg',frame)\n",
    "                break;             # 동영상을 시간이 다되면 끝나지만 웹캠은 우리가 끝내야한다.\n",
    "        else:\n",
    "            print('no frame')\n",
    "            break;\n",
    "else:\n",
    "  print(\"not open video\")\n",
    "cap.release()\n",
    "cv2.destroyAllWindows()"
   ]
  },
  {
   "cell_type": "code",
   "execution_count": null,
   "id": "6e661b8b",
   "metadata": {},
   "outputs": [],
   "source": [
    "# 녹화하기\n",
    "import cv2 \n",
    "cap = cv2.VideoCapture(0)\n",
    "if cap.isOpened:\n",
    "    file_path = './record.avi'\n",
    "    fps = 30.0 # 30 프레임\n",
    "    fourcc = cv2.VideoWriter_fourcc(*'DIVX') # 인코딩 숫자 인식 함수\n",
    "    width = cap.get(cv2.CAP_PROP_FRAME_WIDTH) # 크기 지정\n",
    "    height = cap.get(cv2.CAP_PROP_FRAME_HEIGHT)\n",
    "    size = (int(width), int(height)) # 사이즈 설정\n",
    "    out = cv2.VideoWriter(file_path, fourcc,fps,size)\n",
    "    while True:\n",
    "        ret,frame = cap.read()\n",
    "        if ret:\n",
    "            cv2.imshow('camera-recording', frame) # recording 용도 \n",
    "            out.write(frame)\n",
    "            if cv2.waitKey( int(1000/fps)) != -1:\n",
    "                break;\n",
    "            else:\n",
    "                print('no frame')\n",
    "                break;\n",
    "    out.release()\n",
    "else:\n",
    "    print(\"not open camera\")\n",
    "cap.release()\n",
    "cv2.destroyAllWindows()"
   ]
  },
  {
   "cell_type": "code",
   "execution_count": null,
   "id": "86d09d16",
   "metadata": {},
   "outputs": [],
   "source": []
  },
  {
   "cell_type": "code",
   "execution_count": null,
   "id": "30b23983",
   "metadata": {},
   "outputs": [],
   "source": []
  },
  {
   "cell_type": "code",
   "execution_count": null,
   "id": "a081fd1d",
   "metadata": {},
   "outputs": [],
   "source": []
  },
  {
   "cell_type": "code",
   "execution_count": null,
   "id": "0d40c892",
   "metadata": {},
   "outputs": [],
   "source": []
  },
  {
   "cell_type": "code",
   "execution_count": null,
   "id": "27f2482e",
   "metadata": {},
   "outputs": [],
   "source": []
  },
  {
   "cell_type": "code",
   "execution_count": null,
   "id": "190f9e7c",
   "metadata": {},
   "outputs": [],
   "source": []
  },
  {
   "cell_type": "code",
   "execution_count": null,
   "id": "2ae242cc",
   "metadata": {},
   "outputs": [],
   "source": []
  },
  {
   "cell_type": "code",
   "execution_count": null,
   "id": "0c65dbed",
   "metadata": {},
   "outputs": [],
   "source": []
  },
  {
   "cell_type": "code",
   "execution_count": null,
   "id": "defadc38",
   "metadata": {},
   "outputs": [],
   "source": []
  }
 ],
 "metadata": {
  "kernelspec": {
   "display_name": "Python 3 (ipykernel)",
   "language": "python",
   "name": "python3"
  },
  "language_info": {
   "codemirror_mode": {
    "name": "ipython",
    "version": 3
   },
   "file_extension": ".py",
   "mimetype": "text/x-python",
   "name": "python",
   "nbconvert_exporter": "python",
   "pygments_lexer": "ipython3",
   "version": "3.9.7"
  }
 },
 "nbformat": 4,
 "nbformat_minor": 5
}
