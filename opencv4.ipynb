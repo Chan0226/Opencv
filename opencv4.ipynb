{
 "cells": [
  {
   "cell_type": "markdown",
   "id": "41966c64",
   "metadata": {},
   "source": [
    "## 오츠 알고리즘"
   ]
  },
  {
   "cell_type": "code",
   "execution_count": null,
   "id": "e0657f9e",
   "metadata": {},
   "outputs": [],
   "source": [
    "## 영역 나누기"
   ]
  },
  {
   "cell_type": "code",
   "execution_count": 1,
   "id": "4dd0f603",
   "metadata": {},
   "outputs": [],
   "source": [
    "# threadholding\n",
    "# 이미지를 binary 전환(이진화) : 좀더 정확하게 판단\n",
    "# threadholding : 정수라고 하면 커트라인을 기준으로 합격 불합격 판단\n",
    "import cv2\n",
    "# cv2.threadhold(img,threshold,value,type_flag)\n",
    "\n",
    "# 바이너리 이미지 만들기\n",
    "import cv2\n",
    "import numpy as np\n",
    "import matplotlib.pyplot as plt"
   ]
  },
  {
   "cell_type": "code",
   "execution_count": 2,
   "id": "54f2e792",
   "metadata": {},
   "outputs": [],
   "source": [
    "img = cv2.imread('gray_gradient.jpg',cv2.IMREAD_GRAYSCALE)"
   ]
  },
  {
   "cell_type": "code",
   "execution_count": 3,
   "id": "af228d7a",
   "metadata": {},
   "outputs": [],
   "source": [
    "# numpy 연산을 이용해서 이미지를 만들기\n",
    "thread_np = np.zeros_like(img) # 원본과 동일한 크기의 0으로 채워진 이미지\n",
    "thread_np[img>127] = 255 # 127보다 큰 값만 255로 변경"
   ]
  },
  {
   "cell_type": "code",
   "execution_count": null,
   "id": "981a7286",
   "metadata": {},
   "outputs": [],
   "source": []
  },
  {
   "cell_type": "code",
   "execution_count": null,
   "id": "37f763cd",
   "metadata": {},
   "outputs": [],
   "source": []
  }
 ],
 "metadata": {
  "kernelspec": {
   "display_name": "Python 3",
   "language": "python",
   "name": "python3"
  },
  "language_info": {
   "codemirror_mode": {
    "name": "ipython",
    "version": 3
   },
   "file_extension": ".py",
   "mimetype": "text/x-python",
   "name": "python",
   "nbconvert_exporter": "python",
   "pygments_lexer": "ipython3",
   "version": "3.8.8"
  }
 },
 "nbformat": 4,
 "nbformat_minor": 5
}
