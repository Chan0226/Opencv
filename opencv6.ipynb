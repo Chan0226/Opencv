{
 "cells": [
  {
   "cell_type": "markdown",
   "id": "101ed0d9",
   "metadata": {},
   "source": [
    "## 모션감지 CCTV"
   ]
  },
  {
   "cell_type": "code",
   "execution_count": 3,
   "id": "a7d25cfa",
   "metadata": {},
   "outputs": [],
   "source": [
    "import cv2\n",
    "import numpy as np\n",
    "# 카메라 감도 설정\n",
    "thread = 25 # 픽셀값으로 기준치 설정 \n",
    "max_diff = 5 # 픽셀 수로 기준치 설정"
   ]
  },
  {
   "cell_type": "code",
   "execution_count": 4,
   "id": "f215b17a",
   "metadata": {},
   "outputs": [
    {
     "ename": "SyntaxError",
     "evalue": "invalid syntax (Temp/ipykernel_16852/2462145039.py, line 27)",
     "output_type": "error",
     "traceback": [
      "\u001b[1;36m  File \u001b[1;32m\"C:\\Users\\으쨔\\AppData\\Local\\Temp/ipykernel_16852/2462145039.py\"\u001b[1;36m, line \u001b[1;32m27\u001b[0m\n\u001b[1;33m    cv2.threshold(diff1.,thread,255,cv2.THRESH_BINARY)\u001b[0m\n\u001b[1;37m                        ^\u001b[0m\n\u001b[1;31mSyntaxError\u001b[0m\u001b[1;31m:\u001b[0m invalid syntax\n"
     ]
    }
   ],
   "source": [
    "# 카메라 캡션 \n",
    "a,b,c = None,None,None\n",
    "cap = cv2.VideoCapture(0) # 카메라 한개면 0, 두개면 0,1\n",
    "cap.set(cv2.CAP_PROP_FRAME_WIDTH,480)\n",
    "cap.set(cv2.CAP_PROP_FRAME_HEIGHT,320)\n",
    "\n",
    "# a,b,c 기 필요한 이유 b가 a와 비교했을때 달라지면 움직임 파악\n",
    "if cap.isOpened():   # 화면이 열려있으면\n",
    "    ret,a = cap.read() # 프레임 읽기\n",
    "    ret,b = cap.read()\n",
    "    while ret:\n",
    "        ret,c = cap.read() # 카메라 계속 구동\n",
    "        draw = c.copy()    # 출력영상에 사용할 복제본\n",
    "        if not ret:       # 읽다가 실패하면 끄기\n",
    "            break\n",
    "            \n",
    "        # 3개의 영상을 그레이 스케일로 변경 -> 움직임을 감지할때 색상이 있으면 불편\n",
    "        a_gray = cv2.cvtColor(a,cv2.COLOR_RGB2GRAY)\n",
    "        b_gray = cv2.cvtColor(b,cv2.COLOR_RGB2GRAY)\n",
    "        c_gray = cv2.cvtColor(c,cv2.COLOR_RGB2GRAY)\n",
    "        \n",
    "        # a-b, b-c 절대값의 차\n",
    "        diff1 = cv2.absdiff(a_gray,b_gray)\n",
    "        diff2 = cv2.absdiff(b_gray,c_gray)\n",
    "        \n",
    "        # 스레드홀드로 기준치 이내의 차이는 무시\n",
    "        cv2.threshold(diff1.,thread,255,cv2.THRESH_BINARY)\n",
    "        "
   ]
  },
  {
   "cell_type": "code",
   "execution_count": null,
   "id": "5a0d738a",
   "metadata": {},
   "outputs": [],
   "source": []
  }
 ],
 "metadata": {
  "kernelspec": {
   "display_name": "Python 3 (ipykernel)",
   "language": "python",
   "name": "python3"
  },
  "language_info": {
   "codemirror_mode": {
    "name": "ipython",
    "version": 3
   },
   "file_extension": ".py",
   "mimetype": "text/x-python",
   "name": "python",
   "nbconvert_exporter": "python",
   "pygments_lexer": "ipython3",
   "version": "3.9.7"
  }
 },
 "nbformat": 4,
 "nbformat_minor": 5
}
