{
 "cells": [
  {
   "cell_type": "markdown",
   "id": "2668910c",
   "metadata": {},
   "source": [
    "## 수집한 영상을 이용해서 train"
   ]
  },
  {
   "cell_type": "code",
   "execution_count": 30,
   "id": "e95b1c67",
   "metadata": {},
   "outputs": [],
   "source": [
    "# 수집한 영상을 이용해서 train\n",
    "import cv2\n",
    "import numpy as np\n",
    "import os, glob"
   ]
  },
  {
   "cell_type": "code",
   "execution_count": 31,
   "id": "dc898e87",
   "metadata": {},
   "outputs": [],
   "source": [
    "base_dir = './faces/'\n",
    "train_data, train_labels = [],[]"
   ]
  },
  {
   "cell_type": "code",
   "execution_count": 32,
   "id": "a87ef7cd",
   "metadata": {},
   "outputs": [
    {
     "data": {
      "text/plain": [
       "['./faces\\\\kbc_001']"
      ]
     },
     "execution_count": 32,
     "metadata": {},
     "output_type": "execute_result"
    }
   ],
   "source": [
    "glob.glob(base_dir+'*')"
   ]
  },
  {
   "cell_type": "code",
   "execution_count": 33,
   "id": "a0118532",
   "metadata": {
    "scrolled": true
   },
   "outputs": [
    {
     "data": {
      "text/plain": [
       "['./faces\\\\kbc_001']"
      ]
     },
     "execution_count": 33,
     "metadata": {},
     "output_type": "execute_result"
    }
   ],
   "source": [
    "dirs = [d for d in glob.glob(base_dir+'*') if os.path.isdir(d)]\n",
    "dirs"
   ]
  },
  {
   "cell_type": "code",
   "execution_count": 34,
   "id": "5f5f8827",
   "metadata": {},
   "outputs": [
    {
     "name": "stdout",
     "output_type": "stream",
     "text": [
      "\t path:./faces\\kbc_001, 100files\n"
     ]
    }
   ],
   "source": [
    "for dir in dirs:\n",
    "    # id분리\n",
    "    id = dir.split('_')[1]\n",
    "    files = glob.glob(dir+\"/*.jpg\")\n",
    "    print('\\t path:%s, %dfiles'%(dir, len(files)))\n",
    "    for file in files:\n",
    "        img = cv2.imread(file,cv2.IMREAD_GRAYSCALE)\n",
    "        # 이미지를 train_data저장 아이디 train_lables\n",
    "        train_data.append(np.asarray(img, dtype = np.uint8))\n",
    "        train_labels.append(int(id))        "
   ]
  },
  {
   "cell_type": "code",
   "execution_count": 35,
   "id": "d942ccc8",
   "metadata": {},
   "outputs": [],
   "source": [
    "# numpy 배열로 변환\n",
    "train_data = np.asarray(train_data)\n",
    "train_labels = np.asarray(train_labels)"
   ]
  },
  {
   "cell_type": "code",
   "execution_count": 36,
   "id": "788c5fa4",
   "metadata": {},
   "outputs": [],
   "source": [
    "#!pip install opencv-contrib-python --user"
   ]
  },
  {
   "cell_type": "code",
   "execution_count": 37,
   "id": "7b916148",
   "metadata": {},
   "outputs": [
    {
     "name": "stdout",
     "output_type": "stream",
     "text": [
      "starting LBP Model trainnig....\n",
      "Model trainning successfully\n"
     ]
    }
   ],
   "source": [
    "# LBP 얼굴 인식기 생성 훈련\n",
    "print('starting LBP Model trainnig....')\n",
    "model = cv2.face.LBPHFaceRecognizer_create()\n",
    "model.train(train_data,train_labels)\n",
    "model.write(base_dir+'/all_face.xml')\n",
    "print('Model trainning successfully')"
   ]
  },
  {
   "cell_type": "code",
   "execution_count": null,
   "id": "4b7f0cb8",
   "metadata": {},
   "outputs": [],
   "source": []
  }
 ],
 "metadata": {
  "kernelspec": {
   "display_name": "Python 3",
   "language": "python",
   "name": "python3"
  },
  "language_info": {
   "codemirror_mode": {
    "name": "ipython",
    "version": 3
   },
   "file_extension": ".py",
   "mimetype": "text/x-python",
   "name": "python",
   "nbconvert_exporter": "python",
   "pygments_lexer": "ipython3",
   "version": "3.8.8"
  }
 },
 "nbformat": 4,
 "nbformat_minor": 5
}
