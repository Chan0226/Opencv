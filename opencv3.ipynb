{
 "cells": [
  {
   "cell_type": "markdown",
   "id": "9872f128",
   "metadata": {},
   "source": [
    "## 관심영역"
   ]
  },
  {
   "cell_type": "code",
   "execution_count": null,
   "id": "4776e2c8",
   "metadata": {},
   "outputs": [],
   "source": [
    "# 관심영역 \n",
    "# 이미지 전체를 연산에 사용하지 않고 부분만 잘라낼 때 "
   ]
  },
  {
   "cell_type": "code",
   "execution_count": 1,
   "id": "d5d22385",
   "metadata": {},
   "outputs": [
    {
     "name": "stdout",
     "output_type": "stream",
     "text": [
      "(50, 50, 3)\n"
     ]
    }
   ],
   "source": [
    "import cv2\n",
    "import numpy as np\n",
    "\n",
    "img = cv2.imread('sunset.jpg')\n",
    "x = 320;y=150;w=50;h=50  #ROI 좌표\n",
    "roi = img[y:y+h, x:x+w]\n",
    "\n",
    "print(roi.shape) # 50 50 3\n",
    "cv2.rectangle(roi,(0,0), (h-1,w-1), (0,255,0)) # roi에 사각형을 그리기\n",
    "cv2.imshow('img', img)\n",
    "cv2.waitKey(0)\n",
    "cv2.destroyAllWindows()"
   ]
  },
  {
   "cell_type": "markdown",
   "id": "99c9f9cb",
   "metadata": {},
   "source": [
    "## 태양 복사하기"
   ]
  },
  {
   "cell_type": "code",
   "execution_count": 4,
   "id": "b03eb0df",
   "metadata": {},
   "outputs": [],
   "source": [
    "import cv2\n",
    "import numpy as np\n",
    "\n",
    "img = cv2.imread('sunset.jpg')\n",
    "x = 320;y=150;w=50;h=50  #ROI 좌표\n",
    "roi = img[y:y+h, x:x+w] # 태양 좌표\n",
    "\n",
    "img2 = roi.copy()\n",
    "img[y:y+h, x+w:x+w+w] = roi # 새로운 좌표에 roi 추가, 태양 2개 만들기 \n",
    "cv2.rectangle(roi,(x,y), (x+w+w,y+w), (0,255,0)) # 2개의 태양 영역에 사각형 표시\n",
    "\n",
    "cv2.imshow('img',img)\n",
    "cv2.imshow('roi',img2)\n",
    "\n",
    "cv2.waitKey(0)\n",
    "cv2.destroyAllWindows()"
   ]
  },
  {
   "cell_type": "markdown",
   "id": "935608ce",
   "metadata": {},
   "source": [
    "## 마우스로 관심영역 지정"
   ]
  },
  {
   "cell_type": "code",
   "execution_count": 6,
   "id": "3fa482d3",
   "metadata": {},
   "outputs": [
    {
     "name": "stdout",
     "output_type": "stream",
     "text": [
      "cropped\n",
      "cropped\n"
     ]
    }
   ],
   "source": [
    "# 마우스 이벤트를 사용\n",
    "import cv2\n",
    "import numpy as np\n",
    "\n",
    "isDraging = False\n",
    "x0, y0, w, h = -1,-1,-1,-1\n",
    "blue, red = (255,0,0), (0,0,255)\n",
    "\n",
    "# 클릭한 순간부터 드래그 가능하게\n",
    "def onMouse(event,x,y,flag,param):\n",
    "    global isDraging, x0,y0, img  #전역변수 참조\n",
    "    if event == cv2.EVENT_LBUTTONDOWN:\n",
    "        isDraging = True\n",
    "        x0 = x\n",
    "        y0 = y\n",
    "    elif event == cv2.EVENT_MOUSEMOVE:\n",
    "        if isDraging:\n",
    "            img_draw = img.copy()\n",
    "            cv2.rectangle(img_draw,(x0,y0), (x,y), blue, 2) # 드래그 진행방향 사각형으로 그려줌, 2: 사각형 폭\n",
    "            cv2.imshow('img',img_draw)\n",
    "            \n",
    "    elif event == cv2.EVENT_LBUTTONUP:\n",
    "        isDraging = False\n",
    "        w = x - x0\n",
    "        h = y - y0\n",
    "        if w>0 and y>0:\n",
    "            img_draw = img.copy()\n",
    "            cv2.rectangle(img_draw,(x0,y0), (x,y), red, 2) # 드래그 떼는 순간 빨간색으로 바꿔줌\n",
    "            cv2.imshow('img',img_draw)\n",
    "            roi = img[y0:y0+h, x0:x0+w]\n",
    "            cv2.imshow('cropped',roi)\n",
    "            cv2.moveWindow('cropped',0,0)\n",
    "            cv2.imwrite('cropped.jpg',roi)\n",
    "            print('cropped')\n",
    "    else:\n",
    "        cv2.imshow('img',img) # 드래그가 잘못되면 원본 이미지 출력\n",
    "    \n",
    "img = cv2.imread('sunset.jpg')\n",
    "cv2.imshow('img',img)\n",
    "cv2.setMouseCallback('img',onMouse)\n",
    "cv2.waitKey(0)\n",
    "cv2.destroyAllWindows()"
   ]
  },
  {
   "cell_type": "code",
   "execution_count": null,
   "id": "9aea4021",
   "metadata": {},
   "outputs": [],
   "source": []
  },
  {
   "cell_type": "code",
   "execution_count": null,
   "id": "cd58ba34",
   "metadata": {},
   "outputs": [],
   "source": []
  }
 ],
 "metadata": {
  "kernelspec": {
   "display_name": "Python 3",
   "language": "python",
   "name": "python3"
  },
  "language_info": {
   "codemirror_mode": {
    "name": "ipython",
    "version": 3
   },
   "file_extension": ".py",
   "mimetype": "text/x-python",
   "name": "python",
   "nbconvert_exporter": "python",
   "pygments_lexer": "ipython3",
   "version": "3.8.8"
  }
 },
 "nbformat": 4,
 "nbformat_minor": 5
}
