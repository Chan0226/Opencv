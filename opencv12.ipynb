{
 "cells": [
  {
   "cell_type": "code",
   "execution_count": 46,
   "id": "a49d6f11",
   "metadata": {},
   "outputs": [],
   "source": [
    "import numpy as np\n",
    "import cv2\n",
    "import matplotlib.pyplot as plt"
   ]
  },
  {
   "cell_type": "code",
   "execution_count": 47,
   "id": "2631a42d",
   "metadata": {},
   "outputs": [],
   "source": [
    "# 0 ~ 150 임의의 25개씩 2개\n",
    "a = np.random.randint(0,150,(25,2))"
   ]
  },
  {
   "cell_type": "code",
   "execution_count": 48,
   "id": "f0e572ec",
   "metadata": {},
   "outputs": [],
   "source": [
    "b = np.random.randint(128,255,(25,2))"
   ]
  },
  {
   "cell_type": "code",
   "execution_count": 49,
   "id": "61b9c11b",
   "metadata": {},
   "outputs": [],
   "source": [
    "data = np.vstack((a,b)).astype(np.float32)"
   ]
  },
  {
   "cell_type": "code",
   "execution_count": 50,
   "id": "e2862ca1",
   "metadata": {},
   "outputs": [
    {
     "data": {
      "text/plain": [
       "(3, 10, 1.0)"
      ]
     },
     "execution_count": 50,
     "metadata": {},
     "output_type": "execute_result"
    }
   ],
   "source": [
    "# 중지요건\n",
    "critical = (cv2.TERM_CRITERIA_EPS + cv2.TERM_CRITERIA_MAX_ITER,10,1.0)\n",
    "critical"
   ]
  },
  {
   "cell_type": "code",
   "execution_count": 59,
   "id": "848e57e8",
   "metadata": {},
   "outputs": [],
   "source": [
    "ret, label, center = cv2.kmeans(data,3,None,critical,10,cv2.KMEANS_RANDOM_CENTERS)"
   ]
  },
  {
   "cell_type": "code",
   "execution_count": 60,
   "id": "9276acd6",
   "metadata": {},
   "outputs": [
    {
     "data": {
      "text/plain": [
       "(104954.5892419815,\n",
       " array([[0],\n",
       "        [0],\n",
       "        [0],\n",
       "        [0],\n",
       "        [2],\n",
       "        [0],\n",
       "        [2],\n",
       "        [0],\n",
       "        [0],\n",
       "        [0],\n",
       "        [0],\n",
       "        [2],\n",
       "        [2],\n",
       "        [2],\n",
       "        [0],\n",
       "        [2],\n",
       "        [2],\n",
       "        [0],\n",
       "        [2],\n",
       "        [2],\n",
       "        [2],\n",
       "        [0],\n",
       "        [2],\n",
       "        [2],\n",
       "        [2],\n",
       "        [1],\n",
       "        [1],\n",
       "        [1],\n",
       "        [1],\n",
       "        [1],\n",
       "        [1],\n",
       "        [1],\n",
       "        [1],\n",
       "        [1],\n",
       "        [1],\n",
       "        [2],\n",
       "        [1],\n",
       "        [1],\n",
       "        [1],\n",
       "        [1],\n",
       "        [1],\n",
       "        [1],\n",
       "        [1],\n",
       "        [1],\n",
       "        [1],\n",
       "        [1],\n",
       "        [1],\n",
       "        [1],\n",
       "        [1],\n",
       "        [1]], dtype=int32),\n",
       " array([[ 61.166668,  23.916668],\n",
       "        [191.33334 , 198.70834 ],\n",
       "        [ 90.00001 ,  98.85715 ]], dtype=float32))"
      ]
     },
     "execution_count": 60,
     "metadata": {},
     "output_type": "execute_result"
    }
   ],
   "source": [
    "ret, label, center"
   ]
  },
  {
   "cell_type": "code",
   "execution_count": 61,
   "id": "8e10bb9f",
   "metadata": {},
   "outputs": [],
   "source": [
    "# 레벨에 따라 결과를 분류\n",
    "red = data[label.ravel() == 0]\n",
    "blue = data[label.ravel() == 1]\n",
    "green = data[label.ravel() == 2]"
   ]
  },
  {
   "cell_type": "code",
   "execution_count": 62,
   "id": "92e1fb22",
   "metadata": {},
   "outputs": [
    {
     "data": {
      "text/plain": [
       "<matplotlib.collections.PathCollection at 0x2332ee67c40>"
      ]
     },
     "execution_count": 62,
     "metadata": {},
     "output_type": "execute_result"
    },
    {
     "data": {
      "image/png": "[encoded data removed]",
      "text/plain": [
       "<Figure size 432x288 with 1 Axes>"
      ]
     },
     "metadata": {
      "needs_background": "light"
     },
     "output_type": "display_data"
    }
   ],
   "source": [
    "# plot에 결과 출력\n",
    "plt.scatter(red[:,0],red[:,1],c='r')\n",
    "plt.scatter(blue[:,0],blue[:,1],c='b')\n",
    "plt.scatter(green[:,0],green[:,1],c='g')\n",
    "\n",
    "plt.scatter(center[0,0],center[0,1],c='r',marker='s',s=100)\n",
    "plt.scatter(center[1,0],center[1,1],c='b',marker='s',s=100)\n",
    "plt.scatter(center[2,0],center[1,1],c='g',marker='s',s=100)"
   ]
  },
  {
   "cell_type": "code",
   "execution_count": null,
   "id": "87321e32",
   "metadata": {},
   "outputs": [],
   "source": [
    "# cv2 random svc\n",
    "# 0 ~ 150 임의의 25 X 2\n",
    "a = np.random.randint(0,150,(25,2))\n",
    "# 98~ 255 임의의 25 X 2\n",
    "b = np.random.randint(0,150,(25,2))\n"
   ]
  },
  {
   "cell_type": "code",
   "execution_count": null,
   "id": "45566c47",
   "metadata": {},
   "outputs": [],
   "source": []
  },
  {
   "cell_type": "code",
   "execution_count": null,
   "id": "10031c5b",
   "metadata": {},
   "outputs": [],
   "source": []
  },
  {
   "cell_type": "code",
   "execution_count": null,
   "id": "acd6efd1",
   "metadata": {},
   "outputs": [],
   "source": []
  },
  {
   "cell_type": "code",
   "execution_count": null,
   "id": "70ad065d",
   "metadata": {},
   "outputs": [],
   "source": []
  },
  {
   "cell_type": "code",
   "execution_count": null,
   "id": "d3664c2b",
   "metadata": {},
   "outputs": [],
   "source": []
  },
  {
   "cell_type": "code",
   "execution_count": null,
   "id": "cdea3e4a",
   "metadata": {},
   "outputs": [],
   "source": []
  },
  {
   "cell_type": "code",
   "execution_count": null,
   "id": "e295af69",
   "metadata": {},
   "outputs": [],
   "source": []
  }
 ],
 "metadata": {
  "kernelspec": {
   "display_name": "Python 3",
   "language": "python",
   "name": "python3"
  },
  "language_info": {
   "codemirror_mode": {
    "name": "ipython",
    "version": 3
   },
   "file_extension": ".py",
   "mimetype": "text/x-python",
   "name": "python",
   "nbconvert_exporter": "python",
   "pygments_lexer": "ipython3",
   "version": "3.8.8"
  }
 },
 "nbformat": 4,
 "nbformat_minor": 5
}
