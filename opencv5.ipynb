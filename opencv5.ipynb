{
 "cells": [
  {
   "cell_type": "code",
   "execution_count": null,
   "id": "885326fd",
   "metadata": {},
   "outputs": [],
   "source": [
    "# 투명도를 저장해서 두개의 사진을 합성 (15%범위)"
   ]
  },
  {
   "cell_type": "code",
   "execution_count": 1,
   "id": "46110de3",
   "metadata": {},
   "outputs": [],
   "source": [
    "import cv2\n",
    "import numpy as np"
   ]
  },
  {
   "cell_type": "code",
   "execution_count": 2,
   "id": "0e625048",
   "metadata": {},
   "outputs": [],
   "source": [
    "# 15%를 알파 블랜딩의 범위로 지정\n",
    "alpha_width_rate = 15"
   ]
  },
  {
   "cell_type": "code",
   "execution_count": 3,
   "id": "20d5a4b4",
   "metadata": {},
   "outputs": [],
   "source": [
    "img_face = cv2.imread('man_face.jpg')\n",
    "img_skull = cv2.imread('skull.jpg')"
   ]
  },
  {
   "cell_type": "code",
   "execution_count": 4,
   "id": "14e10e7c",
   "metadata": {},
   "outputs": [],
   "source": [
    "# 입력영상과 같은 크기의 영상 준비.. 결과이미지를 저장\n",
    "img_comp = np.zeros_like(img_face)"
   ]
  },
  {
   "cell_type": "code",
   "execution_count": 5,
   "id": "8bbbcf9d",
   "metadata": {},
   "outputs": [
    {
     "data": {
      "text/plain": [
       "(475, 640, 3)"
      ]
     },
     "execution_count": 5,
     "metadata": {},
     "output_type": "execute_result"
    }
   ],
   "source": [
    "img_face.shape # 마지막 3 : 채널(RGB)"
   ]
  },
  {
   "cell_type": "code",
   "execution_count": 6,
   "id": "77ba0835",
   "metadata": {},
   "outputs": [
    {
     "data": {
      "text/plain": [
       "(475, 640)"
      ]
     },
     "execution_count": 6,
     "metadata": {},
     "output_type": "execute_result"
    }
   ],
   "source": [
    "img_face.shape[:2]"
   ]
  },
  {
   "cell_type": "code",
   "execution_count": 13,
   "id": "62b908a1",
   "metadata": {},
   "outputs": [],
   "source": [
    "height,width = img_face.shape[:2]\n",
    "middle = width // 2\n",
    "alpha_width = width + alpha_width_rate // 100 # 알파 블랜딩의 범위\n",
    "start = middle - alpha_width // 2 # 알파 블랜딩의 시작지점\n",
    "step = 100 / alpha_width          # 알파값 간격"
   ]
  },
  {
   "cell_type": "markdown",
   "id": "c9e2dd0a",
   "metadata": {},
   "source": [
    "## 절반씩 합성"
   ]
  },
  {
   "cell_type": "code",
   "execution_count": 8,
   "id": "b31e2433",
   "metadata": {},
   "outputs": [],
   "source": [
    "# 절반씩 복사한 다음 결과에 합성\n",
    "img_comp[:,:middle,:] = img_face[:,:middle,:].copy()\n",
    "img_comp[:,middle:,:] = img_skull[:,middle:,:].copy()\n",
    "cv2.imshow(\"half\",img_comp)\n",
    "cv2.waitKey()\n",
    "cv2.destroyAllWindows()"
   ]
  },
  {
   "cell_type": "markdown",
   "id": "f94bf8db",
   "metadata": {},
   "source": [
    "## 자연스럽게 합성"
   ]
  },
  {
   "cell_type": "code",
   "execution_count": 14,
   "id": "ba0fc9bb",
   "metadata": {
    "scrolled": true
   },
   "outputs": [],
   "source": [
    "# 알파값을 변경하면서 블랜딩 적용\n",
    "for i in range(alpha_width):\n",
    "    alpha = (100-step*i) / 100 # 알파값을 0~1로 유지\n",
    "    beta = 1- alpha\n",
    "    # 알파 블랜딩 적용\n",
    "    img_comp[:,start+i] = img_face[:,start+i]*alpha+img_skull[:,start+i]*beta\n",
    "    \n",
    "cv2.imshow('half skull', img_comp)\n",
    "cv2.waitKey()\n",
    "cv2.destroyAllWindows()"
   ]
  },
  {
   "cell_type": "code",
   "execution_count": null,
   "id": "773d0bf7",
   "metadata": {},
   "outputs": [],
   "source": []
  },
  {
   "cell_type": "code",
   "execution_count": null,
   "id": "9f35b8aa",
   "metadata": {},
   "outputs": [],
   "source": []
  },
  {
   "cell_type": "code",
   "execution_count": null,
   "id": "50b4678d",
   "metadata": {},
   "outputs": [],
   "source": []
  }
 ],
 "metadata": {
  "kernelspec": {
   "display_name": "Python 3 (ipykernel)",
   "language": "python",
   "name": "python3"
  },
  "language_info": {
   "codemirror_mode": {
    "name": "ipython",
    "version": 3
   },
   "file_extension": ".py",
   "mimetype": "text/x-python",
   "name": "python",
   "nbconvert_exporter": "python",
   "pygments_lexer": "ipython3",
   "version": "3.9.7"
  }
 },
 "nbformat": 4,
 "nbformat_minor": 5
}
